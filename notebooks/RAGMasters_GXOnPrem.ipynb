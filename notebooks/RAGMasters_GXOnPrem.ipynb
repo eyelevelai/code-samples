{
 "cells": [
  {
   "cell_type": "markdown",
   "metadata": {
    "id": "oC8PkGgW7Rn4"
   },
   "source": [
    "# Connecting to an instance of GroundX On-Prem\n",
    "This notebook assumes you have set up a GroundX On-Prem Instance\n",
    "https://github.com/eyelevelai/eyelevel-iac\n",
    "\n",
    "This notebook uses a GroundX On-Prem instance to do parsing and retreival, then passes retreived context to a local LLM, thus doing RAG within a self-contained environment.\n",
    "\n",
    "Recommended to use an A100 with High-RAM on Google Colab.\n"
   ]
  },
  {
   "cell_type": "code",
   "execution_count": 1,
   "metadata": {
    "colab": {
     "base_uri": "https://localhost:8080/"
    },
    "id": "mh6Bs9kCqXOz",
    "outputId": "b5cc2d0d-4104-40dd-b4c0-8fd9eb20a8ee"
   },
   "outputs": [
    {
     "name": "stdout",
     "output_type": "stream",
     "text": [
      "Defaulting to user installation because normal site-packages is not writeable\n",
      "Requirement already satisfied: groundx in /Users/danielwarfield/Library/Python/3.9/lib/python/site-packages (2.0.29)\n",
      "Requirement already satisfied: pydantic>=1.9.2 in /Users/danielwarfield/Library/Python/3.9/lib/python/site-packages (from groundx) (2.10.3)\n",
      "Requirement already satisfied: httpx>=0.21.2 in /Users/danielwarfield/Library/Python/3.9/lib/python/site-packages (from groundx) (0.28.1)\n",
      "Requirement already satisfied: typing_extensions>=4.0.0 in /Users/danielwarfield/Library/Python/3.9/lib/python/site-packages (from groundx) (4.12.2)\n",
      "Requirement already satisfied: requests>=2.4.0 in /Users/danielwarfield/Library/Python/3.9/lib/python/site-packages (from groundx) (2.32.3)\n",
      "Requirement already satisfied: aiohttp>=3.8.0 in /Users/danielwarfield/Library/Python/3.9/lib/python/site-packages (from groundx) (3.11.10)\n",
      "Requirement already satisfied: pydantic-core<3.0.0,>=2.18.2 in /Users/danielwarfield/Library/Python/3.9/lib/python/site-packages (from groundx) (2.27.1)\n",
      "Requirement already satisfied: aiohappyeyeballs>=2.3.0 in /Users/danielwarfield/Library/Python/3.9/lib/python/site-packages (from aiohttp>=3.8.0->groundx) (2.4.4)\n",
      "Requirement already satisfied: attrs>=17.3.0 in /Users/danielwarfield/Library/Python/3.9/lib/python/site-packages (from aiohttp>=3.8.0->groundx) (24.2.0)\n",
      "Requirement already satisfied: propcache>=0.2.0 in /Users/danielwarfield/Library/Python/3.9/lib/python/site-packages (from aiohttp>=3.8.0->groundx) (0.2.1)\n",
      "Requirement already satisfied: multidict<7.0,>=4.5 in /Users/danielwarfield/Library/Python/3.9/lib/python/site-packages (from aiohttp>=3.8.0->groundx) (6.1.0)\n",
      "Requirement already satisfied: aiosignal>=1.1.2 in /Users/danielwarfield/Library/Python/3.9/lib/python/site-packages (from aiohttp>=3.8.0->groundx) (1.3.1)\n",
      "Requirement already satisfied: yarl<2.0,>=1.17.0 in /Users/danielwarfield/Library/Python/3.9/lib/python/site-packages (from aiohttp>=3.8.0->groundx) (1.18.3)\n",
      "Requirement already satisfied: frozenlist>=1.1.1 in /Users/danielwarfield/Library/Python/3.9/lib/python/site-packages (from aiohttp>=3.8.0->groundx) (1.5.0)\n",
      "Requirement already satisfied: async-timeout<6.0,>=4.0 in /Users/danielwarfield/Library/Python/3.9/lib/python/site-packages (from aiohttp>=3.8.0->groundx) (5.0.1)\n",
      "Requirement already satisfied: httpcore==1.* in /Users/danielwarfield/Library/Python/3.9/lib/python/site-packages (from httpx>=0.21.2->groundx) (1.0.7)\n",
      "Requirement already satisfied: certifi in /Users/danielwarfield/Library/Python/3.9/lib/python/site-packages (from httpx>=0.21.2->groundx) (2024.8.30)\n",
      "Requirement already satisfied: idna in /Users/danielwarfield/Library/Python/3.9/lib/python/site-packages (from httpx>=0.21.2->groundx) (3.10)\n",
      "Requirement already satisfied: anyio in /Users/danielwarfield/Library/Python/3.9/lib/python/site-packages (from httpx>=0.21.2->groundx) (4.7.0)\n",
      "Requirement already satisfied: h11<0.15,>=0.13 in /Users/danielwarfield/Library/Python/3.9/lib/python/site-packages (from httpcore==1.*->httpx>=0.21.2->groundx) (0.14.0)\n",
      "Requirement already satisfied: annotated-types>=0.6.0 in /Users/danielwarfield/Library/Python/3.9/lib/python/site-packages (from pydantic>=1.9.2->groundx) (0.7.0)\n",
      "Requirement already satisfied: urllib3<3,>=1.21.1 in /Users/danielwarfield/Library/Python/3.9/lib/python/site-packages (from requests>=2.4.0->groundx) (2.2.3)\n",
      "Requirement already satisfied: charset-normalizer<4,>=2 in /Users/danielwarfield/Library/Python/3.9/lib/python/site-packages (from requests>=2.4.0->groundx) (3.4.0)\n",
      "Requirement already satisfied: exceptiongroup>=1.0.2 in /Users/danielwarfield/Library/Python/3.9/lib/python/site-packages (from anyio->httpx>=0.21.2->groundx) (1.2.2)\n",
      "Requirement already satisfied: sniffio>=1.1 in /Users/danielwarfield/Library/Python/3.9/lib/python/site-packages (from anyio->httpx>=0.21.2->groundx) (1.3.1)\n",
      "\u001b[33mWARNING: You are using pip version 21.2.4; however, version 24.3.1 is available.\n",
      "You should consider upgrading via the '/Library/Developer/CommandLineTools/usr/bin/python3 -m pip install --upgrade pip' command.\u001b[0m\n"
     ]
    }
   ],
   "source": [
    "!pip3 install groundx"
   ]
  },
  {
   "cell_type": "markdown",
   "metadata": {
    "id": "ovq9ug5_sJ7V"
   },
   "source": [
    "Call `kubectl -n eyelevel get svc` to get the external_ip"
   ]
  },
  {
   "cell_type": "code",
   "execution_count": null,
   "metadata": {
    "id": "ilfLgAMjpw2T"
   },
   "outputs": [],
   "source": [
    "#replace with your \"external IP\"\n",
    "external_ip = 'xxxxxxxxxxxxxxxxxxxxxxxxxxxxxxxx-xxxxxxxxxx.us-east-2.elb.amazonaws.com'\n",
    "api_key = 'xxxxxxxx-xxxx-xxxx-xxxx-xxxxxxxxxxxx'\n",
    "\n",
    "from groundx import GroundX\n",
    "client = GroundX(\n",
    "  api_key=api_key,\n",
    "  base_url=f\"http://{external_ip}/api\"\n",
    ")"
   ]
  },
  {
   "cell_type": "markdown",
   "metadata": {
    "id": "OTIlsSyo9BNM"
   },
   "source": [
    "# uploading"
   ]
  },
  {
   "cell_type": "code",
   "execution_count": 4,
   "metadata": {
    "colab": {
     "base_uri": "https://localhost:8080/"
    },
    "id": "Bn7Xjm1lrQS_",
    "outputId": "7e54938c-c1e8-4444-be12-a1beeb7db58a"
   },
   "outputs": [],
   "source": [
    "\"\"\"Setting Up Bucket\n",
    "\"\"\"\n",
    "\n",
    "import json\n",
    "response = client.buckets.create(\n",
    "    name=\"demo_bucket\"\n",
    ")\n",
    "bucket_id = response.bucket.bucket_id"
   ]
  },
  {
   "cell_type": "code",
   "execution_count": null,
   "metadata": {
    "colab": {
     "base_uri": "https://localhost:8080/"
    },
    "id": "m4-lQ5TZs-NJ",
    "outputId": "1ebd3217-3655-4aff-98cc-afb82496b52e"
   },
   "outputs": [
    {
     "data": {
      "text/plain": [
       "'b9ff24c7-61d8-420b-8337-c6b70f69371d'"
      ]
     },
     "execution_count": 5,
     "metadata": {},
     "output_type": "execute_result"
    }
   ],
   "source": [
    "\"\"\"Uploading Document to Bucket\n",
    "\"\"\"\n",
    "from groundx import Document\n",
    "\n",
    "doc_path = 'assets/packageProcess.pdf'\n",
    "\n",
    "#uploading document\n",
    "response = client.ingest(\n",
    "    documents=[\n",
    "      Document(\n",
    "        bucket_id=bucket_id,\n",
    "        file_name=doc_path,\n",
    "        file_path=doc_path,\n",
    "        file_type='pdf'\n",
    "      )\n",
    "    ]\n",
    ")\n",
    "\n",
    "process_id = response.ingest.process_id\n",
    "process_id"
   ]
  },
  {
   "cell_type": "code",
   "execution_count": 6,
   "metadata": {
    "colab": {
     "base_uri": "https://localhost:8080/"
    },
    "id": "z8nWAbWguHpJ",
    "outputId": "86913c70-29fb-4e36-8eef-cc54763a4ee7"
   },
   "outputs": [
    {
     "name": "stdout",
     "output_type": "stream",
     "text": [
      "still processing...\n",
      "still processing...\n",
      "still processing...\n",
      "still processing...\n",
      "still processing...\n",
      "still processing...\n",
      "still processing...\n",
      "still processing...\n",
      "still processing...\n",
      "still processing...\n",
      "still processing...\n",
      "still processing...\n",
      "still processing...\n",
      "still processing...\n",
      "done!\n"
     ]
    }
   ],
   "source": [
    "\"\"\"Checking Status\n",
    "wait for it to \"status\":\"complete\" before progressing\n",
    "\"\"\"\n",
    "import time\n",
    "while True:\n",
    "\n",
    "    response = client.documents.get_processing_status_by_id(\n",
    "        process_id=process_id\n",
    "    )\n",
    "\n",
    "    if response.ingest.status == 'complete':\n",
    "        print('done!')\n",
    "        break\n",
    "\n",
    "    print('still processing...')\n",
    "    time.sleep(10)"
   ]
  },
  {
   "cell_type": "markdown",
   "metadata": {
    "id": "awERBuKm9Dvd"
   },
   "source": [
    "# Retreival"
   ]
  },
  {
   "cell_type": "code",
   "execution_count": 8,
   "metadata": {
    "id": "fRXzrAiQuWTS"
   },
   "outputs": [],
   "source": [
    "import json\n",
    "\n",
    "query = \"What testing protocol should I follow if the package is shipping LTL?\"\n",
    "\n",
    "response = client.search.content(\n",
    "    id=bucket_id,\n",
    "    query=query\n",
    ")\n",
    "context = response.search.text"
   ]
  },
  {
   "cell_type": "code",
   "execution_count": null,
   "metadata": {
    "colab": {
     "base_uri": "https://localhost:8080/"
    },
    "id": "Bk6oTI2KxoL_",
    "outputId": "1c6662db-2c69-4ab2-a53b-5bc253292e36"
   },
   "outputs": [],
   "source": [
    "print(context)"
   ]
  },
  {
   "cell_type": "markdown",
   "metadata": {
    "id": "Rqg5cXfi7NED"
   },
   "source": [
    "# Making an Inference with an LLM Locally"
   ]
  },
  {
   "cell_type": "code",
   "execution_count": null,
   "metadata": {
    "id": "Ro7POTrD6YV-"
   },
   "outputs": [],
   "source": [
    "import os\n",
    "from huggingface_hub import login\n",
    "from google.colab import userdata\n",
    "\n",
    "login(userdata.get('HuggingFace'))"
   ]
  },
  {
   "cell_type": "code",
   "execution_count": null,
   "metadata": {
    "colab": {
     "base_uri": "https://localhost:8080/",
     "height": 49,
     "referenced_widgets": [
      "45af99e086f34d08ac7275ba719da00e",
      "9e769ac0036c4bde9daeeaa80d908160",
      "1dc70f6dbf9840f1ae1b514c3012a320",
      "8f08a18a0b4549988911c887d86c4644",
      "f799b6a4569c4624928983937a9c0488",
      "951a9705a94f43b69269cd9773b75147",
      "8ea8e9757146434e8c150e76cfc3307c",
      "94ff03e59fa84a749c27011fe8707238",
      "abf7c1a82c7c4616974485bb1d015df8",
      "c2e862d03f874146b37b6bda7220f116",
      "29e880a048f6444089057bd4a6fcdb2b"
     ]
    },
    "id": "-JYm1ALdcaqh",
    "outputId": "8c46c978-48ea-4de5-c3d7-91ad8ae1e832"
   },
   "outputs": [
    {
     "data": {
      "application/vnd.jupyter.widget-view+json": {
       "model_id": "45af99e086f34d08ac7275ba719da00e",
       "version_major": 2,
       "version_minor": 0
      },
      "text/plain": [
       "Loading checkpoint shards:   0%|          | 0/2 [00:00<?, ?it/s]"
      ]
     },
     "metadata": {},
     "output_type": "display_data"
    }
   ],
   "source": [
    "from transformers import pipeline\n",
    "pipe = pipeline(\"text-generation\", model=\"meta-llama/Llama-3.2-3B-Instruct\", max_length = 6000, device='cuda')"
   ]
  },
  {
   "cell_type": "code",
   "execution_count": null,
   "metadata": {
    "colab": {
     "base_uri": "https://localhost:8080/"
    },
    "id": "zddY_Uab4zee",
    "outputId": "d13df6cb-9bf5-4910-eabd-04f3a93a634b"
   },
   "outputs": [
    {
     "name": "stderr",
     "output_type": "stream",
     "text": [
      "Setting `pad_token_id` to `eos_token_id`:None for open-end generation.\n"
     ]
    },
    {
     "name": "stdout",
     "output_type": "stream",
     "text": [
      "Based on the provided text excerpts, if the package is shipping LTL (Less Than Truckload), the testing protocol to follow is the ISTA 3B protocol. This is because the flowchart indicates that if the item ships LTL from the Fulfillment Center, the user should follow the ISTA 3B protocol.\n",
      "\n",
      "Additionally, the text excerpt from page 3 states that if the item does not meet the conditions for shipping SIOC, it will be shipped via LTL. Therefore, if the package is shipping LTL, it is likely that the ISTA 3B protocol should be followed.\n",
      "\n",
      "It's worth noting that the text excerpt from page 2 also mentions that if any of the conditions are met, the item will ship LTL. These conditions include:\n",
      "\n",
      "* >150lbs\n",
      "* >108\" in longest dimension (9ft)\n",
      "* >165\" in length (L) + girth (2W+2H)\n",
      "\n",
      "If any of these conditions are met, the package will ship LTL and the ISTA 3B protocol should be followed.\n"
     ]
    }
   ],
   "source": [
    "# Use a pipeline as a high-level helper\n",
    "from transformers import pipeline\n",
    "\n",
    "messages = [\n",
    "    {\"role\": \"user\", \"content\": f\"use this information to answer my next query\\n\\n{context}\"},\n",
    "    {\"role\": \"user\", \"content\": f'{query} Think about your answer then generate a response'},\n",
    "]\n",
    "print(pipe(messages)[0]['generated_text'][-1]['content'])"
   ]
  }
 ],
 "metadata": {
  "accelerator": "GPU",
  "colab": {
   "gpuType": "A100",
   "machine_shape": "hm",
   "provenance": []
  },
  "kernelspec": {
   "display_name": "Python 3",
   "name": "python3"
  },
  "language_info": {
   "codemirror_mode": {
    "name": "ipython",
    "version": 3
   },
   "file_extension": ".py",
   "mimetype": "text/x-python",
   "name": "python",
   "nbconvert_exporter": "python",
   "pygments_lexer": "ipython3",
   "version": "3.9.6"
  },
  "widgets": {
   "application/vnd.jupyter.widget-state+json": {
    "1dc70f6dbf9840f1ae1b514c3012a320": {
     "model_module": "@jupyter-widgets/controls",
     "model_module_version": "1.5.0",
     "model_name": "FloatProgressModel",
     "state": {
      "_dom_classes": [],
      "_model_module": "@jupyter-widgets/controls",
      "_model_module_version": "1.5.0",
      "_model_name": "FloatProgressModel",
      "_view_count": null,
      "_view_module": "@jupyter-widgets/controls",
      "_view_module_version": "1.5.0",
      "_view_name": "ProgressView",
      "bar_style": "success",
      "description": "",
      "description_tooltip": null,
      "layout": "IPY_MODEL_94ff03e59fa84a749c27011fe8707238",
      "max": 2,
      "min": 0,
      "orientation": "horizontal",
      "style": "IPY_MODEL_abf7c1a82c7c4616974485bb1d015df8",
      "value": 2
     }
    },
    "29e880a048f6444089057bd4a6fcdb2b": {
     "model_module": "@jupyter-widgets/controls",
     "model_module_version": "1.5.0",
     "model_name": "DescriptionStyleModel",
     "state": {
      "_model_module": "@jupyter-widgets/controls",
      "_model_module_version": "1.5.0",
      "_model_name": "DescriptionStyleModel",
      "_view_count": null,
      "_view_module": "@jupyter-widgets/base",
      "_view_module_version": "1.2.0",
      "_view_name": "StyleView",
      "description_width": ""
     }
    },
    "45af99e086f34d08ac7275ba719da00e": {
     "model_module": "@jupyter-widgets/controls",
     "model_module_version": "1.5.0",
     "model_name": "HBoxModel",
     "state": {
      "_dom_classes": [],
      "_model_module": "@jupyter-widgets/controls",
      "_model_module_version": "1.5.0",
      "_model_name": "HBoxModel",
      "_view_count": null,
      "_view_module": "@jupyter-widgets/controls",
      "_view_module_version": "1.5.0",
      "_view_name": "HBoxView",
      "box_style": "",
      "children": [
       "IPY_MODEL_9e769ac0036c4bde9daeeaa80d908160",
       "IPY_MODEL_1dc70f6dbf9840f1ae1b514c3012a320",
       "IPY_MODEL_8f08a18a0b4549988911c887d86c4644"
      ],
      "layout": "IPY_MODEL_f799b6a4569c4624928983937a9c0488"
     }
    },
    "8ea8e9757146434e8c150e76cfc3307c": {
     "model_module": "@jupyter-widgets/controls",
     "model_module_version": "1.5.0",
     "model_name": "DescriptionStyleModel",
     "state": {
      "_model_module": "@jupyter-widgets/controls",
      "_model_module_version": "1.5.0",
      "_model_name": "DescriptionStyleModel",
      "_view_count": null,
      "_view_module": "@jupyter-widgets/base",
      "_view_module_version": "1.2.0",
      "_view_name": "StyleView",
      "description_width": ""
     }
    },
    "8f08a18a0b4549988911c887d86c4644": {
     "model_module": "@jupyter-widgets/controls",
     "model_module_version": "1.5.0",
     "model_name": "HTMLModel",
     "state": {
      "_dom_classes": [],
      "_model_module": "@jupyter-widgets/controls",
      "_model_module_version": "1.5.0",
      "_model_name": "HTMLModel",
      "_view_count": null,
      "_view_module": "@jupyter-widgets/controls",
      "_view_module_version": "1.5.0",
      "_view_name": "HTMLView",
      "description": "",
      "description_tooltip": null,
      "layout": "IPY_MODEL_c2e862d03f874146b37b6bda7220f116",
      "placeholder": "​",
      "style": "IPY_MODEL_29e880a048f6444089057bd4a6fcdb2b",
      "value": " 2/2 [00:02&lt;00:00,  1.08s/it]"
     }
    },
    "94ff03e59fa84a749c27011fe8707238": {
     "model_module": "@jupyter-widgets/base",
     "model_module_version": "1.2.0",
     "model_name": "LayoutModel",
     "state": {
      "_model_module": "@jupyter-widgets/base",
      "_model_module_version": "1.2.0",
      "_model_name": "LayoutModel",
      "_view_count": null,
      "_view_module": "@jupyter-widgets/base",
      "_view_module_version": "1.2.0",
      "_view_name": "LayoutView",
      "align_content": null,
      "align_items": null,
      "align_self": null,
      "border": null,
      "bottom": null,
      "display": null,
      "flex": null,
      "flex_flow": null,
      "grid_area": null,
      "grid_auto_columns": null,
      "grid_auto_flow": null,
      "grid_auto_rows": null,
      "grid_column": null,
      "grid_gap": null,
      "grid_row": null,
      "grid_template_areas": null,
      "grid_template_columns": null,
      "grid_template_rows": null,
      "height": null,
      "justify_content": null,
      "justify_items": null,
      "left": null,
      "margin": null,
      "max_height": null,
      "max_width": null,
      "min_height": null,
      "min_width": null,
      "object_fit": null,
      "object_position": null,
      "order": null,
      "overflow": null,
      "overflow_x": null,
      "overflow_y": null,
      "padding": null,
      "right": null,
      "top": null,
      "visibility": null,
      "width": null
     }
    },
    "951a9705a94f43b69269cd9773b75147": {
     "model_module": "@jupyter-widgets/base",
     "model_module_version": "1.2.0",
     "model_name": "LayoutModel",
     "state": {
      "_model_module": "@jupyter-widgets/base",
      "_model_module_version": "1.2.0",
      "_model_name": "LayoutModel",
      "_view_count": null,
      "_view_module": "@jupyter-widgets/base",
      "_view_module_version": "1.2.0",
      "_view_name": "LayoutView",
      "align_content": null,
      "align_items": null,
      "align_self": null,
      "border": null,
      "bottom": null,
      "display": null,
      "flex": null,
      "flex_flow": null,
      "grid_area": null,
      "grid_auto_columns": null,
      "grid_auto_flow": null,
      "grid_auto_rows": null,
      "grid_column": null,
      "grid_gap": null,
      "grid_row": null,
      "grid_template_areas": null,
      "grid_template_columns": null,
      "grid_template_rows": null,
      "height": null,
      "justify_content": null,
      "justify_items": null,
      "left": null,
      "margin": null,
      "max_height": null,
      "max_width": null,
      "min_height": null,
      "min_width": null,
      "object_fit": null,
      "object_position": null,
      "order": null,
      "overflow": null,
      "overflow_x": null,
      "overflow_y": null,
      "padding": null,
      "right": null,
      "top": null,
      "visibility": null,
      "width": null
     }
    },
    "9e769ac0036c4bde9daeeaa80d908160": {
     "model_module": "@jupyter-widgets/controls",
     "model_module_version": "1.5.0",
     "model_name": "HTMLModel",
     "state": {
      "_dom_classes": [],
      "_model_module": "@jupyter-widgets/controls",
      "_model_module_version": "1.5.0",
      "_model_name": "HTMLModel",
      "_view_count": null,
      "_view_module": "@jupyter-widgets/controls",
      "_view_module_version": "1.5.0",
      "_view_name": "HTMLView",
      "description": "",
      "description_tooltip": null,
      "layout": "IPY_MODEL_951a9705a94f43b69269cd9773b75147",
      "placeholder": "​",
      "style": "IPY_MODEL_8ea8e9757146434e8c150e76cfc3307c",
      "value": "Loading checkpoint shards: 100%"
     }
    },
    "abf7c1a82c7c4616974485bb1d015df8": {
     "model_module": "@jupyter-widgets/controls",
     "model_module_version": "1.5.0",
     "model_name": "ProgressStyleModel",
     "state": {
      "_model_module": "@jupyter-widgets/controls",
      "_model_module_version": "1.5.0",
      "_model_name": "ProgressStyleModel",
      "_view_count": null,
      "_view_module": "@jupyter-widgets/base",
      "_view_module_version": "1.2.0",
      "_view_name": "StyleView",
      "bar_color": null,
      "description_width": ""
     }
    },
    "c2e862d03f874146b37b6bda7220f116": {
     "model_module": "@jupyter-widgets/base",
     "model_module_version": "1.2.0",
     "model_name": "LayoutModel",
     "state": {
      "_model_module": "@jupyter-widgets/base",
      "_model_module_version": "1.2.0",
      "_model_name": "LayoutModel",
      "_view_count": null,
      "_view_module": "@jupyter-widgets/base",
      "_view_module_version": "1.2.0",
      "_view_name": "LayoutView",
      "align_content": null,
      "align_items": null,
      "align_self": null,
      "border": null,
      "bottom": null,
      "display": null,
      "flex": null,
      "flex_flow": null,
      "grid_area": null,
      "grid_auto_columns": null,
      "grid_auto_flow": null,
      "grid_auto_rows": null,
      "grid_column": null,
      "grid_gap": null,
      "grid_row": null,
      "grid_template_areas": null,
      "grid_template_columns": null,
      "grid_template_rows": null,
      "height": null,
      "justify_content": null,
      "justify_items": null,
      "left": null,
      "margin": null,
      "max_height": null,
      "max_width": null,
      "min_height": null,
      "min_width": null,
      "object_fit": null,
      "object_position": null,
      "order": null,
      "overflow": null,
      "overflow_x": null,
      "overflow_y": null,
      "padding": null,
      "right": null,
      "top": null,
      "visibility": null,
      "width": null
     }
    },
    "f799b6a4569c4624928983937a9c0488": {
     "model_module": "@jupyter-widgets/base",
     "model_module_version": "1.2.0",
     "model_name": "LayoutModel",
     "state": {
      "_model_module": "@jupyter-widgets/base",
      "_model_module_version": "1.2.0",
      "_model_name": "LayoutModel",
      "_view_count": null,
      "_view_module": "@jupyter-widgets/base",
      "_view_module_version": "1.2.0",
      "_view_name": "LayoutView",
      "align_content": null,
      "align_items": null,
      "align_self": null,
      "border": null,
      "bottom": null,
      "display": null,
      "flex": null,
      "flex_flow": null,
      "grid_area": null,
      "grid_auto_columns": null,
      "grid_auto_flow": null,
      "grid_auto_rows": null,
      "grid_column": null,
      "grid_gap": null,
      "grid_row": null,
      "grid_template_areas": null,
      "grid_template_columns": null,
      "grid_template_rows": null,
      "height": null,
      "justify_content": null,
      "justify_items": null,
      "left": null,
      "margin": null,
      "max_height": null,
      "max_width": null,
      "min_height": null,
      "min_width": null,
      "object_fit": null,
      "object_position": null,
      "order": null,
      "overflow": null,
      "overflow_x": null,
      "overflow_y": null,
      "padding": null,
      "right": null,
      "top": null,
      "visibility": null,
      "width": null
     }
    }
   }
  }
 },
 "nbformat": 4,
 "nbformat_minor": 0
}
