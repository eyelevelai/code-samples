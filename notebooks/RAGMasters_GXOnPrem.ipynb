{
  "nbformat": 4,
  "nbformat_minor": 0,
  "metadata": {
    "colab": {
      "provenance": [],
      "machine_shape": "hm",
      "gpuType": "A100"
    },
    "kernelspec": {
      "name": "python3",
      "display_name": "Python 3"
    },
    "language_info": {
      "name": "python"
    },
    "accelerator": "GPU",
    "widgets": {
      "application/vnd.jupyter.widget-state+json": {
        "45af99e086f34d08ac7275ba719da00e": {
          "model_module": "@jupyter-widgets/controls",
          "model_name": "HBoxModel",
          "model_module_version": "1.5.0",
          "state": {
            "_dom_classes": [],
            "_model_module": "@jupyter-widgets/controls",
            "_model_module_version": "1.5.0",
            "_model_name": "HBoxModel",
            "_view_count": null,
            "_view_module": "@jupyter-widgets/controls",
            "_view_module_version": "1.5.0",
            "_view_name": "HBoxView",
            "box_style": "",
            "children": [
              "IPY_MODEL_9e769ac0036c4bde9daeeaa80d908160",
              "IPY_MODEL_1dc70f6dbf9840f1ae1b514c3012a320",
              "IPY_MODEL_8f08a18a0b4549988911c887d86c4644"
            ],
            "layout": "IPY_MODEL_f799b6a4569c4624928983937a9c0488"
          }
        },
        "9e769ac0036c4bde9daeeaa80d908160": {
          "model_module": "@jupyter-widgets/controls",
          "model_name": "HTMLModel",
          "model_module_version": "1.5.0",
          "state": {
            "_dom_classes": [],
            "_model_module": "@jupyter-widgets/controls",
            "_model_module_version": "1.5.0",
            "_model_name": "HTMLModel",
            "_view_count": null,
            "_view_module": "@jupyter-widgets/controls",
            "_view_module_version": "1.5.0",
            "_view_name": "HTMLView",
            "description": "",
            "description_tooltip": null,
            "layout": "IPY_MODEL_951a9705a94f43b69269cd9773b75147",
            "placeholder": "​",
            "style": "IPY_MODEL_8ea8e9757146434e8c150e76cfc3307c",
            "value": "Loading checkpoint shards: 100%"
          }
        },
        "1dc70f6dbf9840f1ae1b514c3012a320": {
          "model_module": "@jupyter-widgets/controls",
          "model_name": "FloatProgressModel",
          "model_module_version": "1.5.0",
          "state": {
            "_dom_classes": [],
            "_model_module": "@jupyter-widgets/controls",
            "_model_module_version": "1.5.0",
            "_model_name": "FloatProgressModel",
            "_view_count": null,
            "_view_module": "@jupyter-widgets/controls",
            "_view_module_version": "1.5.0",
            "_view_name": "ProgressView",
            "bar_style": "success",
            "description": "",
            "description_tooltip": null,
            "layout": "IPY_MODEL_94ff03e59fa84a749c27011fe8707238",
            "max": 2,
            "min": 0,
            "orientation": "horizontal",
            "style": "IPY_MODEL_abf7c1a82c7c4616974485bb1d015df8",
            "value": 2
          }
        },
        "8f08a18a0b4549988911c887d86c4644": {
          "model_module": "@jupyter-widgets/controls",
          "model_name": "HTMLModel",
          "model_module_version": "1.5.0",
          "state": {
            "_dom_classes": [],
            "_model_module": "@jupyter-widgets/controls",
            "_model_module_version": "1.5.0",
            "_model_name": "HTMLModel",
            "_view_count": null,
            "_view_module": "@jupyter-widgets/controls",
            "_view_module_version": "1.5.0",
            "_view_name": "HTMLView",
            "description": "",
            "description_tooltip": null,
            "layout": "IPY_MODEL_c2e862d03f874146b37b6bda7220f116",
            "placeholder": "​",
            "style": "IPY_MODEL_29e880a048f6444089057bd4a6fcdb2b",
            "value": " 2/2 [00:02&lt;00:00,  1.08s/it]"
          }
        },
        "f799b6a4569c4624928983937a9c0488": {
          "model_module": "@jupyter-widgets/base",
          "model_name": "LayoutModel",
          "model_module_version": "1.2.0",
          "state": {
            "_model_module": "@jupyter-widgets/base",
            "_model_module_version": "1.2.0",
            "_model_name": "LayoutModel",
            "_view_count": null,
            "_view_module": "@jupyter-widgets/base",
            "_view_module_version": "1.2.0",
            "_view_name": "LayoutView",
            "align_content": null,
            "align_items": null,
            "align_self": null,
            "border": null,
            "bottom": null,
            "display": null,
            "flex": null,
            "flex_flow": null,
            "grid_area": null,
            "grid_auto_columns": null,
            "grid_auto_flow": null,
            "grid_auto_rows": null,
            "grid_column": null,
            "grid_gap": null,
            "grid_row": null,
            "grid_template_areas": null,
            "grid_template_columns": null,
            "grid_template_rows": null,
            "height": null,
            "justify_content": null,
            "justify_items": null,
            "left": null,
            "margin": null,
            "max_height": null,
            "max_width": null,
            "min_height": null,
            "min_width": null,
            "object_fit": null,
            "object_position": null,
            "order": null,
            "overflow": null,
            "overflow_x": null,
            "overflow_y": null,
            "padding": null,
            "right": null,
            "top": null,
            "visibility": null,
            "width": null
          }
        },
        "951a9705a94f43b69269cd9773b75147": {
          "model_module": "@jupyter-widgets/base",
          "model_name": "LayoutModel",
          "model_module_version": "1.2.0",
          "state": {
            "_model_module": "@jupyter-widgets/base",
            "_model_module_version": "1.2.0",
            "_model_name": "LayoutModel",
            "_view_count": null,
            "_view_module": "@jupyter-widgets/base",
            "_view_module_version": "1.2.0",
            "_view_name": "LayoutView",
            "align_content": null,
            "align_items": null,
            "align_self": null,
            "border": null,
            "bottom": null,
            "display": null,
            "flex": null,
            "flex_flow": null,
            "grid_area": null,
            "grid_auto_columns": null,
            "grid_auto_flow": null,
            "grid_auto_rows": null,
            "grid_column": null,
            "grid_gap": null,
            "grid_row": null,
            "grid_template_areas": null,
            "grid_template_columns": null,
            "grid_template_rows": null,
            "height": null,
            "justify_content": null,
            "justify_items": null,
            "left": null,
            "margin": null,
            "max_height": null,
            "max_width": null,
            "min_height": null,
            "min_width": null,
            "object_fit": null,
            "object_position": null,
            "order": null,
            "overflow": null,
            "overflow_x": null,
            "overflow_y": null,
            "padding": null,
            "right": null,
            "top": null,
            "visibility": null,
            "width": null
          }
        },
        "8ea8e9757146434e8c150e76cfc3307c": {
          "model_module": "@jupyter-widgets/controls",
          "model_name": "DescriptionStyleModel",
          "model_module_version": "1.5.0",
          "state": {
            "_model_module": "@jupyter-widgets/controls",
            "_model_module_version": "1.5.0",
            "_model_name": "DescriptionStyleModel",
            "_view_count": null,
            "_view_module": "@jupyter-widgets/base",
            "_view_module_version": "1.2.0",
            "_view_name": "StyleView",
            "description_width": ""
          }
        },
        "94ff03e59fa84a749c27011fe8707238": {
          "model_module": "@jupyter-widgets/base",
          "model_name": "LayoutModel",
          "model_module_version": "1.2.0",
          "state": {
            "_model_module": "@jupyter-widgets/base",
            "_model_module_version": "1.2.0",
            "_model_name": "LayoutModel",
            "_view_count": null,
            "_view_module": "@jupyter-widgets/base",
            "_view_module_version": "1.2.0",
            "_view_name": "LayoutView",
            "align_content": null,
            "align_items": null,
            "align_self": null,
            "border": null,
            "bottom": null,
            "display": null,
            "flex": null,
            "flex_flow": null,
            "grid_area": null,
            "grid_auto_columns": null,
            "grid_auto_flow": null,
            "grid_auto_rows": null,
            "grid_column": null,
            "grid_gap": null,
            "grid_row": null,
            "grid_template_areas": null,
            "grid_template_columns": null,
            "grid_template_rows": null,
            "height": null,
            "justify_content": null,
            "justify_items": null,
            "left": null,
            "margin": null,
            "max_height": null,
            "max_width": null,
            "min_height": null,
            "min_width": null,
            "object_fit": null,
            "object_position": null,
            "order": null,
            "overflow": null,
            "overflow_x": null,
            "overflow_y": null,
            "padding": null,
            "right": null,
            "top": null,
            "visibility": null,
            "width": null
          }
        },
        "abf7c1a82c7c4616974485bb1d015df8": {
          "model_module": "@jupyter-widgets/controls",
          "model_name": "ProgressStyleModel",
          "model_module_version": "1.5.0",
          "state": {
            "_model_module": "@jupyter-widgets/controls",
            "_model_module_version": "1.5.0",
            "_model_name": "ProgressStyleModel",
            "_view_count": null,
            "_view_module": "@jupyter-widgets/base",
            "_view_module_version": "1.2.0",
            "_view_name": "StyleView",
            "bar_color": null,
            "description_width": ""
          }
        },
        "c2e862d03f874146b37b6bda7220f116": {
          "model_module": "@jupyter-widgets/base",
          "model_name": "LayoutModel",
          "model_module_version": "1.2.0",
          "state": {
            "_model_module": "@jupyter-widgets/base",
            "_model_module_version": "1.2.0",
            "_model_name": "LayoutModel",
            "_view_count": null,
            "_view_module": "@jupyter-widgets/base",
            "_view_module_version": "1.2.0",
            "_view_name": "LayoutView",
            "align_content": null,
            "align_items": null,
            "align_self": null,
            "border": null,
            "bottom": null,
            "display": null,
            "flex": null,
            "flex_flow": null,
            "grid_area": null,
            "grid_auto_columns": null,
            "grid_auto_flow": null,
            "grid_auto_rows": null,
            "grid_column": null,
            "grid_gap": null,
            "grid_row": null,
            "grid_template_areas": null,
            "grid_template_columns": null,
            "grid_template_rows": null,
            "height": null,
            "justify_content": null,
            "justify_items": null,
            "left": null,
            "margin": null,
            "max_height": null,
            "max_width": null,
            "min_height": null,
            "min_width": null,
            "object_fit": null,
            "object_position": null,
            "order": null,
            "overflow": null,
            "overflow_x": null,
            "overflow_y": null,
            "padding": null,
            "right": null,
            "top": null,
            "visibility": null,
            "width": null
          }
        },
        "29e880a048f6444089057bd4a6fcdb2b": {
          "model_module": "@jupyter-widgets/controls",
          "model_name": "DescriptionStyleModel",
          "model_module_version": "1.5.0",
          "state": {
            "_model_module": "@jupyter-widgets/controls",
            "_model_module_version": "1.5.0",
            "_model_name": "DescriptionStyleModel",
            "_view_count": null,
            "_view_module": "@jupyter-widgets/base",
            "_view_module_version": "1.2.0",
            "_view_name": "StyleView",
            "description_width": ""
          }
        }
      }
    }
  },
  "cells": [
    {
      "cell_type": "markdown",
      "source": [
        "# Connecting to an instance of GroundX On-Prem\n",
        "This notebook assumes you have set up a GroundX On-Prem Instance\n",
        "https://github.com/eyelevelai/eyelevel-iac\n",
        "\n",
        "This notebook uses a GroundX On-Prem instance to do parsing and retreival, then passes retreived context to a local LLM, thus doing RAG within a self-contained environment.\n",
        "\n",
        "Recommended to use an A100 with High-RAM on Google Colab.\n"
      ],
      "metadata": {
        "id": "oC8PkGgW7Rn4"
      }
    },
    {
      "cell_type": "code",
      "source": [
        "!pip install groundx-python-sdk==1.3.29"
      ],
      "metadata": {
        "colab": {
          "base_uri": "https://localhost:8080/"
        },
        "id": "mh6Bs9kCqXOz",
        "outputId": "b5cc2d0d-4104-40dd-b4c0-8fd9eb20a8ee"
      },
      "execution_count": null,
      "outputs": [
        {
          "output_type": "stream",
          "name": "stdout",
          "text": [
            "Requirement already satisfied: groundx-python-sdk==1.3.29 in /usr/local/lib/python3.10/dist-packages (1.3.29)\n",
            "Requirement already satisfied: aiohttp<4.0.0,>=3.8.4 in /usr/local/lib/python3.10/dist-packages (from groundx-python-sdk==1.3.29) (3.11.2)\n",
            "Requirement already satisfied: certifi>=2023.7.22 in /usr/local/lib/python3.10/dist-packages (from groundx-python-sdk==1.3.29) (2024.8.30)\n",
            "Requirement already satisfied: cryptography<43.0.0,>=42.0.5 in /usr/local/lib/python3.10/dist-packages (from groundx-python-sdk==1.3.29) (42.0.8)\n",
            "Requirement already satisfied: frozendict<3.0.0,>=2.3.4 in /usr/local/lib/python3.10/dist-packages (from groundx-python-sdk==1.3.29) (2.4.6)\n",
            "Requirement already satisfied: python-dateutil<3.0.0,>=2.8.2 in /usr/local/lib/python3.10/dist-packages (from groundx-python-sdk==1.3.29) (2.8.2)\n",
            "Requirement already satisfied: typing_extensions<5.0.0,>=4.3.0 in /usr/local/lib/python3.10/dist-packages (from groundx-python-sdk==1.3.29) (4.12.2)\n",
            "Requirement already satisfied: urllib3<3.0.0,>=1.26.18 in /usr/local/lib/python3.10/dist-packages (from groundx-python-sdk==1.3.29) (2.2.3)\n",
            "Requirement already satisfied: aiohappyeyeballs>=2.3.0 in /usr/local/lib/python3.10/dist-packages (from aiohttp<4.0.0,>=3.8.4->groundx-python-sdk==1.3.29) (2.4.3)\n",
            "Requirement already satisfied: aiosignal>=1.1.2 in /usr/local/lib/python3.10/dist-packages (from aiohttp<4.0.0,>=3.8.4->groundx-python-sdk==1.3.29) (1.3.1)\n",
            "Requirement already satisfied: attrs>=17.3.0 in /usr/local/lib/python3.10/dist-packages (from aiohttp<4.0.0,>=3.8.4->groundx-python-sdk==1.3.29) (24.2.0)\n",
            "Requirement already satisfied: frozenlist>=1.1.1 in /usr/local/lib/python3.10/dist-packages (from aiohttp<4.0.0,>=3.8.4->groundx-python-sdk==1.3.29) (1.5.0)\n",
            "Requirement already satisfied: multidict<7.0,>=4.5 in /usr/local/lib/python3.10/dist-packages (from aiohttp<4.0.0,>=3.8.4->groundx-python-sdk==1.3.29) (6.1.0)\n",
            "Requirement already satisfied: propcache>=0.2.0 in /usr/local/lib/python3.10/dist-packages (from aiohttp<4.0.0,>=3.8.4->groundx-python-sdk==1.3.29) (0.2.0)\n",
            "Requirement already satisfied: yarl<2.0,>=1.17.0 in /usr/local/lib/python3.10/dist-packages (from aiohttp<4.0.0,>=3.8.4->groundx-python-sdk==1.3.29) (1.17.2)\n",
            "Requirement already satisfied: async-timeout<6.0,>=4.0 in /usr/local/lib/python3.10/dist-packages (from aiohttp<4.0.0,>=3.8.4->groundx-python-sdk==1.3.29) (4.0.3)\n",
            "Requirement already satisfied: cffi>=1.12 in /usr/local/lib/python3.10/dist-packages (from cryptography<43.0.0,>=42.0.5->groundx-python-sdk==1.3.29) (1.17.1)\n",
            "Requirement already satisfied: six>=1.5 in /usr/local/lib/python3.10/dist-packages (from python-dateutil<3.0.0,>=2.8.2->groundx-python-sdk==1.3.29) (1.16.0)\n",
            "Requirement already satisfied: pycparser in /usr/local/lib/python3.10/dist-packages (from cffi>=1.12->cryptography<43.0.0,>=42.0.5->groundx-python-sdk==1.3.29) (2.22)\n",
            "Requirement already satisfied: idna>=2.0 in /usr/local/lib/python3.10/dist-packages (from yarl<2.0,>=1.17.0->aiohttp<4.0.0,>=3.8.4->groundx-python-sdk==1.3.29) (3.10)\n"
          ]
        }
      ]
    },
    {
      "cell_type": "markdown",
      "source": [
        "Call `kubectl -n eyelevel get svc` to get the external_ip"
      ],
      "metadata": {
        "id": "ovq9ug5_sJ7V"
      }
    },
    {
      "cell_type": "code",
      "execution_count": null,
      "metadata": {
        "id": "ilfLgAMjpw2T"
      },
      "outputs": [],
      "source": [
        "from groundx import Groundx\n",
        "from groundx.configuration import Configuration\n",
        "\n",
        "#replace with your external IP\n",
        "external_ip = 'xxxxxxxxxxxxxxxxxxxxxxxxxxxxxxxx-xxxxxxxxxx.us-east-2.elb.amazonaws.com'\n",
        "\n",
        "groundx = Groundx(\n",
        "    configuration=Configuration(\n",
        "        host=f\"http://{external_ip}/api\",\n",
        "        #replace with your API Key\n",
        "        api_key=\"xxxxxxxx-xxxx-xxxx-xxxx-xxxxxxxxxxxx\",\n",
        "    )\n",
        ")"
      ]
    },
    {
      "cell_type": "markdown",
      "source": [
        "# uploading"
      ],
      "metadata": {
        "id": "OTIlsSyo9BNM"
      }
    },
    {
      "cell_type": "code",
      "source": [
        "\"\"\"Setting Up Bucket\n",
        "\"\"\"\n",
        "\n",
        "import json\n",
        "response = groundx.buckets.create(\n",
        "    name=\"demo_bucket\"\n",
        ")\n",
        "print(response.body)\n",
        "bucekt_id = json.loads(response.body)['bucket']['bucketId']"
      ],
      "metadata": {
        "colab": {
          "base_uri": "https://localhost:8080/"
        },
        "id": "Bn7Xjm1lrQS_",
        "outputId": "7e54938c-c1e8-4444-be12-a1beeb7db58a"
      },
      "execution_count": null,
      "outputs": [
        {
          "output_type": "stream",
          "name": "stdout",
          "text": [
            "{\n",
            " \"bucket\": {\n",
            "  \"bucketId\": 2,\n",
            "  \"name\": \"demo_bucket\"\n",
            " }\n",
            "}\n",
            "\n"
          ]
        }
      ]
    },
    {
      "cell_type": "code",
      "source": [
        "\"\"\"Uploading Document to Bucket\n",
        "\"\"\"\n",
        "\n",
        "response = groundx.documents.ingest_local([{\n",
        "    \"blob\": open(\"document.pdf\", \"rb\"),\n",
        "    \"metadata\": {\n",
        "        \"bucketId\": bucekt_id,\n",
        "        \"fileName\": \"document.pdf\",\n",
        "        \"fileType\": \"pdf\"\n",
        "    }\n",
        "}])\n",
        "print(response.body)\n",
        "processId = json.loads(response.body)['ingest']['processId']"
      ],
      "metadata": {
        "colab": {
          "base_uri": "https://localhost:8080/"
        },
        "id": "m4-lQ5TZs-NJ",
        "outputId": "1ebd3217-3655-4aff-98cc-afb82496b52e"
      },
      "execution_count": null,
      "outputs": [
        {
          "output_type": "stream",
          "name": "stdout",
          "text": [
            "{\n",
            " \"ingest\": {\n",
            "  \"processId\": \"a4c236c0-6294-416b-8a84-755bb26d1f01\",\n",
            "  \"status\": \"queued\"\n",
            " }\n",
            "}\n",
            "\n"
          ]
        }
      ]
    },
    {
      "cell_type": "code",
      "source": [
        "processId"
      ],
      "metadata": {
        "colab": {
          "base_uri": "https://localhost:8080/",
          "height": 37
        },
        "id": "g5-aZXkiuDWu",
        "outputId": "fc4ee5d2-fa0a-4d77-a8f3-ae246c12c593"
      },
      "execution_count": null,
      "outputs": [
        {
          "output_type": "execute_result",
          "data": {
            "text/plain": [
              "'a4c236c0-6294-416b-8a84-755bb26d1f01'"
            ],
            "application/vnd.google.colaboratory.intrinsic+json": {
              "type": "string"
            }
          },
          "metadata": {},
          "execution_count": 45
        }
      ]
    },
    {
      "cell_type": "code",
      "source": [
        "\"\"\"Checking Status\n",
        "wait for it to \"status\":\"complete\" before progressing\n",
        "\"\"\"\n",
        "\n",
        "from groundx import Groundx\n",
        "\n",
        "response = groundx.documents.get_processing_status_by_id(\n",
        "    process_id=processId\n",
        ")\n",
        "print(json.loads(response.body)['ingest']['status'])\n",
        "print('---')\n",
        "print(response.body)"
      ],
      "metadata": {
        "colab": {
          "base_uri": "https://localhost:8080/"
        },
        "id": "z8nWAbWguHpJ",
        "outputId": "86913c70-29fb-4e36-8eef-cc54763a4ee7"
      },
      "execution_count": null,
      "outputs": [
        {
          "output_type": "stream",
          "name": "stdout",
          "text": [
            "complete\n",
            "---\n",
            "{\n",
            " \"ingest\": {\n",
            "  \"processId\": \"a4c236c0-6294-416b-8a84-755bb26d1f01\",\n",
            "  \"progress\": {\n",
            "   \"complete\": {\n",
            "    \"documents\": [\n",
            "     {\n",
            "      \"documentId\": \"de4a04ca-1db2-42dc-9930-8ff52fe75bd5\",\n",
            "      \"fileName\": \"document.pdf\",\n",
            "      \"fileSize\": \"136 KB\",\n",
            "      \"fileTokens\": 35211,\n",
            "      \"fileType\": \"pdf\",\n",
            "      \"bucketId\": 2,\n",
            "      \"processId\": \"a4c236c0-6294-416b-8a84-755bb26d1f01\",\n",
            "      \"sourceUrl\": \"http://minio.eyelevel.svc.cluster.local/eyelevel/prod/file/758a83e3-e1bc-40b5-aa37-a97ec0210eee/document.pdf\",\n",
            "      \"status\": \"complete\",\n",
            "      \"xrayUrl\": \"http://minio.eyelevel.svc.cluster.local/eyelevel/layout/processed/a4c236c0-6294-416b-8a84-755bb26d1f01/de4a04ca-1db2-42dc-9930-8ff52fe75bd5-xray.json\"\n",
            "     }\n",
            "    ],\n",
            "    \"total\": 1\n",
            "   }\n",
            "  },\n",
            "  \"status\": \"complete\"\n",
            " }\n",
            "}\n",
            "\n"
          ]
        }
      ]
    },
    {
      "cell_type": "markdown",
      "source": [
        "# Retreival"
      ],
      "metadata": {
        "id": "awERBuKm9Dvd"
      }
    },
    {
      "cell_type": "code",
      "source": [
        "import json\n",
        "\n",
        "query = \"What testing protocol should I follow if the package is shipping LTL?\"\n",
        "\n",
        "response = groundx.search.content(\n",
        "    id=bucekt_id,\n",
        "    query=query\n",
        ")\n",
        "context = json.loads(response.body)['search']['text']"
      ],
      "metadata": {
        "id": "fRXzrAiQuWTS"
      },
      "execution_count": null,
      "outputs": []
    },
    {
      "cell_type": "code",
      "source": [
        "print(context)"
      ],
      "metadata": {
        "colab": {
          "base_uri": "https://localhost:8080/"
        },
        "id": "Bk6oTI2KxoL_",
        "outputId": "1c6662db-2c69-4ab2-a53b-5bc253292e36"
      },
      "execution_count": null,
      "outputs": [
        {
          "output_type": "stream",
          "name": "stdout",
          "text": [
            "The following text excerpts are from the same section of a document named 'document.pdf':\n",
            "\n",
            "Text excerpt from page number 1:\n",
            "The JSONL object for the image is as follows:\n",
            "```json\n",
            "{\n",
            "  \"figure_title\": \"Walmart Package Testing Flowchart\",\n",
            "  \"figure_number\": 1,\n",
            "  \"description\": \"This flowchart outlines the process for testing and labeling packages for Walmart's private brands.\",\n",
            "  \"components\": [\n",
            "    {\n",
            "      \"name\": \"New or existing item\",\n",
            "      \"description\": \"Determine if the item is new or already exists.\"\n",
            "    },\n",
            "    {\n",
            "      \"name\": \"Is Item required to be SIOC\",\n",
            "      \"description\": \"Check if the item must be shipped as SIOC.\"\n",
            "    },\n",
            "    {\n",
            "      \"name\": \"Does the item ship LTL from the Fulfillment Center?\",\n",
            "      \"description\": \"Determine if the item should be shipped via LTL.\"\n",
            "    },\n",
            "    {\n",
            "      \"name\": \"Follow ISTA 3B protocol\",\n",
            "      \"description\": \"Follow specific ISTA 3B protocol if applicable.\"\n",
            "    },\n",
            "    {\n",
            "      \"name\": \"Follow ISTA 6A Fed-Ex International protocol\",\n",
            "      \"description\": \"Follow specific ISTA 6A protocol if applicable.\"\n",
            "    },\n",
            "    {\n",
            "      \"name\": \"Follow ISTA 3A protocol\",\n",
            "      \"description\": \"Follow specific ISTA 3A protocol if applicable.\"\n",
            "    },\n",
            "    {\n",
            "      \"name\": \"Work on packaging improvements\",\n",
            "      \"description\": \"If the proper ISTA testing is not complete, the item will fail product testing. If any of the following conditions are met, your product is considered Ships in Own Container (SIOC) and is to ship in its own case:\"\n",
            "    },\n",
            "    {\n",
            "      \"name\": \"Any item shipped into Walmart as a 1/1 item\",\n",
            "      \"description\": \"\"\n",
            "    },\n",
            "    {\n",
            "      \"name\": \"Any item whose sellable unit is in a shippable container\",\n",
            "      \"description\": \"\"\n",
            "    },\n",
            "    {\n",
            "      \"name\": \"Any single side of case is greater than 25\\\" in length OR\",\n",
            "      \"description\": \"\"\n",
            "    },\n",
            "    {\n",
            "      \"name\": \"The second largest side of case is greater than 20\\\" in length OR\",\n",
            "      \"description\": \"\"\n",
            "    },\n",
            "    {\n",
            "      \"name\": \"The smallest side of case is greater than 14\\\" in length OR\",\n",
            "      \"description\": \"\"\n",
            "    },\n",
            "    {\n",
            "      \"name\": \"The case weighs more than 30 pounds OR\",\n",
            "      \"description\": \"\"\n",
            "    },\n",
            "    {\n",
            "      \"name\": \"Volume is greater than 3.25 cubic feet\",\n",
            "      \"description\": \"\"\n",
            "    },\n",
            "    {\n",
            "      \"name\": \"Certified ISTA Tests will be collected for D14/D71 during Production Testing.\",\n",
            "      \"description\": \"If the proper ISTA testing is not complete, the item will fail product testing.\"\n",
            "    },\n",
            "    {\n",
            "      \"name\": \"If any of the following conditions are met, item will ship LTL:\",\n",
            "      \"description\": \"If none of the above are met, package will travel small parcel carrier.\"\n",
            "    },\n",
            "    {\n",
            "      \"name\": \">150lbs\",\n",
            "      \"description\": \"\"\n",
            "    },\n",
            "    {\n",
            "      \"name\": \">108\\\" in longest dimension (9ft)\",\n",
            "      \"description\": \"\"\n",
            "    },\n",
            "    {\n",
            "      \"name\": \">165\\\" in length (L) + girth (2W+2H)\",\n",
            "      \"description\": \"\"\n",
            "    }\n",
            "  ],\n",
            "  \"relationships\": [\n",
            "    {\n",
            "      \"source\": \"New or existing item\",\n",
            "      \"target\": \"Is Item required to be SIOC\"\n",
            "    },\n",
            "    {\n",
            "      \"source\": \"Is Item required to be SIOC\",\n",
            "      \"target\": \"Does the item ship LTL from the Fulfillment Center?\"\n",
            "    },\n",
            "    {\n",
            "      \"source\": \"Does the item ship LTL from the Fulfillment Center?\",\n",
            "      \"target\": \"Follow ISTA 3B protocol\"\n",
            "    },\n",
            "    {\n",
            "      \"source\": \"Does the item ship LTL from the Fulfillment Center?\",\n",
            "      \"target\": \"Follow ISTA 6A Fed-Ex International protocol\"\n",
            "    },\n",
            "    {\n",
            "      \"source\": \"Does the item ship LTL from the Fulfillment Center?\",\n",
            "      \"target\": \"Follow ISTA 3A protocol\"\n",
            "    },\n",
            "    {\n",
            "      \"source\": \"Follow ISTA 3B protocol\",\n",
            "      \"target\": \"Work on packaging improvements\"\n",
            "    },\n",
            "    {\n",
            "      \"source\": \"Follow ISTA 6A Fed-Ex International protocol\",\n",
            "      \"target\": \"Provide completed Certified 3rd Party Passing ISTA Test to Lab at Production Testing.\"\n",
            "    },\n",
            "    {\n",
            "      \"source\": \"Follow ISTA 3A protocol\",\n",
            "      \"target\": \"Provide completed Certified 3rd Party Passing ISTA Test to Lab at Production Testing.\"\n",
            "    },\n",
            "    {\n",
            "      \"source\": \"If any one of the following conditions are met, item will ship LTL:\",\n",
            "      \"target\": \">150lbs\",\n",
            "      \"target\": \">108\\\" in longest dimension (9ft)\",\n",
            "      \"target\": \">165\\\" in length (L) + girth (2W+2H)\"\n",
            "    }\n",
            "  ]\n",
            "}\n",
            "```\n",
            "Narrative description: The diagram illustrates the steps involved in determining whether a product needs to undergo package testing according to Walmart's standards. It starts with identifying if the item is new or an existing one. Then it checks if the item requires shipping as SIOC. Based on these criteria, the flowchart directs the user to follow either ISTA 3B, ISTA 6A, or ISTA 3A protocols depending on the outcome. The flowchart also includes conditions under which the item is considered to ship in its own container (SIOC), such as being a 1/1 item, having a sellable unit in a shippable container, or meeting certain dimensions and weight requirements.\n",
            "\n",
            "\n",
            "Text excerpt from page number 3:\n",
            "{\n",
            "  \"figureTitle\": \"Walmart Package Testing Flowchart\",\n",
            "  \"figureNumber\": 1,\n",
            "  \"description\": \"This flowchart outlines the process for determining if a product must meet specific packaging standards based on its type and shipping method.\",\n",
            "  \"components\": [\n",
            "    \"New or existing item\",\n",
            "    \"Is Item required to be SIOC?\",\n",
            "    \"Does the item ship LTL from the Fulfillment Center?\",\n",
            "    \"Follow ISTA 3B protocol\",\n",
            "    \"Follow ISTA 6A Fed-Ex International protocol\",\n",
            "    \"Follow ISTA 3A protocol\"\n",
            "  ],\n",
            "  \"trends\": [],\n",
            "  \"relationships\": [\n",
            "    {\n",
            "      \"source\": \"New or existing item\",\n",
            "      \"target\": \"Is Item required to be SIOC?\",\n",
            "      \"type\": \"flow\"\n",
            "    },\n",
            "    {\n",
            "      \"source\": \"Is Item required to be SIOC?\",\n",
            "      \"target\": \"Does the item ship LTL from the Fulfillment Center?\",\n",
            "      \"type\": \"flow\"\n",
            "    },\n",
            "    {\n",
            "      \"source\": \"Does the item ship LTL from the Fulfillment Center?\",\n",
            "      \"target\": \"Follow ISTA 3B protocol\",\n",
            "      \"type\": \"flow\"\n",
            "    },\n",
            "    {\n",
            "      \"source\": \"Does the item ship LTL from the Fulfillment Center?\",\n",
            "      \"target\": \"Follow ISTA 6A Fed-Ex International protocol\",\n",
            "      \"type\": \"flow\"\n",
            "    },\n",
            "    {\n",
            "      \"source\": \"Does the item ship LTL from the Fulfillment Center?\",\n",
            "      \"target\": \"Follow ISTA 3A protocol\",\n",
            "      \"type\": \"flow\"\n",
            "    },\n",
            "    {\n",
            "      \"source\": \"Follow ISTA 3B protocol\",\n",
            "      \"target\": \"Work on packaging improvements\",\n",
            "      \"type\": \"flow\"\n",
            "    },\n",
            "    {\n",
            "      \"source\": \"Follow ISTA 6A Fed-Ex International protocol\",\n",
            "      \"target\": \"Provide completed Certified 3rd Party Passing ISTA Test to ISTATesting@walmart.com\",\n",
            "      \"type\": \"flow\"\n",
            "    },\n",
            "    {\n",
            "      \"source\": \"Follow ISTA 3A protocol\",\n",
            "      \"target\": \"Provide completed Certified 3rd Party Passing ISTA Test to ISTATesting@walmart.com\",\n",
            "      \"type\": \"flow\"\n",
            "    }\n",
            "  ]\n",
            "}\n",
            "\n",
            "-----\n",
            "\n",
            "The following text excerpts are from a document named 'document.pdf':\n",
            "\n",
            "\n",
            "Text excerpt from page number 2:\n",
            "New or existing item Sa ee eee a i ae ceo See SEE TOOT POT GRE Se T EEL OTS OE Eee EEL OCC Eee\n",
            "Follow ISTA 3B ae MJ Work on packaging protocol. improvements.\n",
            "Does\n",
            "the item\n",
            " Is Item required ; NES ship LTL from\n",
            " to be SIOC the Fulfillment\n",
            "Center?* Follow ISTA 6A Fed-Ex A\n",
            " International protocol Hl\n",
            " i\n",
            " i\n",
            " i\n",
            "ALL ETS Departments- Provide completed Certified\n",
            " 3rd Party Passing ISTA Test to\n",
            " ISTATesting@wal-mart.com.\n",
            "No Follow ISTA 3A\n",
            "protocol.\n",
            "+ If any one of the following conditions are met, item will ship LTL:\n",
            " >150lbs\n",
            "\n",
            "\n",
            "Text excerpt from page number 4:\n",
            "{\n",
            "  \"image_description\": \"An open cardboard box containing a case pack of blue circular items.\",\n",
            "  \"keywords\": [\n",
            "    \"Supply Chain Standards\",\n",
            "    \"General Requirements\",\n",
            "    \"Case Pack Definitions for ISTA Testing\",\n",
            "    \"Shipping Carton\",\n",
            "    \"Warehouse Pack\",\n",
            "    \"Unitized Load\",\n",
            "    \"ISTA Test\",\n",
            "    \"Walmart Stores, Inc.\"\n",
            "  ]\n",
            "}\n",
            "\n",
            "\n",
            "Text excerpt from page number 3 and page number 4:\n",
            "The following text is clear and self-explanatory:\n",
            "- 108\\\" in longest dimension (9ft)\n",
            "- 165\\\" in length (L) + girth (2W+2H)\n",
            "- If none of the above are met, package will travel small parcel carrier.\n",
            "- © 2024 Walmart Stores, Inc. The examples shown are for reference only.\n",
            "- Supply Chain Standards / General Requirements | 202 01\n",
            "- Required Package Testing, cont...\n",
            "- Case Pack Definitions for ISTA Testing\n",
            "\n",
            "\n",
            "Text excerpt from page number 3:\n",
            "{\n",
            "  \"title\": \"Completed Transit Tests\",\n",
            "  \"content\": [\n",
            "    {\n",
            "      \"text\": \"Once the transit test results are complete, the supplier or global sourcing partner must submit a copy to ISTATesting@wal-mart.com. Walmart may request a retest for items with rates above department average.\"\n",
            "    },\n",
            "    {\n",
            "      \"text\": \"Items exempt from testing requirements shown below:\"\n",
            "    },\n",
            "    {\n",
            "      \"text\": \"Soft Goods, including but not limited to:\"\n",
            "    },\n",
            "    {\n",
            "      \"text\": \"+ D9: Camping and sports clothing apparel, sports towels\"\n",
            "    },\n",
            "    {\n",
            "      \"text\": \"= NOTE - ISTA testing once completed should be sent to |STATesting@wal-mart.com.\"\n",
            "    },\n",
            "    {\n",
            "      \"text\": \"+ D10: Cleaning towels Walmart Hardlines Private Brands Transit Testing - Flow Chart + Dit: Safety gloves\\n+ D16: Seat cushions, throw pillows\\net 0 RR a aaa le ni a i eg ea lcci cece\\nFollow |STA3B Miewg = grrr Work on packaging protocol. improvements.\\nDoes\\nthe item\\n Is Item required ; NES ship LTL from\\n to be SIOC the Fulfillment\\nCenter?* Follow ISTA 6A Fed-Ex A\\n International protocol Hl\\n i\\n i\\n i\\nALL Hardlines Departments- Provide completed Certified\\n 3rd Party Passing ISTA Test to\\n ISTATesting@wal-mart.com.\\nNo Follow ISTA 3A\\nprotocol.\\n+ If any one of the following conditions are met, item will ship LTL:\\n \\u003e150lbs\\n\\u003e108\\\" in longest dimension (9ft)\\n\\u003e165\\\" in length (L) + girth (2W+2H)\\nIf none of the above are met, package will travel small parcel carrier.\",\n",
            "      \"footnotes\": [\n",
            "        {\n",
            "          \"text\": \"© 2024 W\\\\nmart Stores, Inc. The examples shown are for reference only.\"\n",
            "        }\n",
            "      ]\n",
            "    }\n",
            "  ]\n",
            "}\n",
            "\n",
            "\n",
            "Text excerpt from page number 1:\n",
            "Supply Chain Standards / General Requirements | 199 “\n",
            "Required Package Testing, cont...\n",
            "GM Home: Private and Exclusive Brands Labeling > Walmart Package Standards/Transit Testing.\n",
            " NOTE - Certified ISTA Tests will be collect for D14/D71 during Production Testing.\n",
            "If the proper ISTA testing is not complete, the item will fail product testing.\n",
            "If any of the following conditions are met, your product is considered Ships in\n",
            "Own Container “SIOC” and is to ship in its own case:\n",
            " + Any item shipped into Walmart as a 1/1 item\n",
            " + Any item whose sellable unit is in a shippable container\n",
            " + Any single side of case is greater than 25\" in length OR\n",
            " + The second largest side of case is greater than 20\" in length OR\n",
            " + The smallest side of case is greater than 14” in length OR\n",
            " + The case weighs more than 30 pounds OR\n",
            " + Volume is greater than 3.25 cubic feet\n",
            " Ht NOTE - This page applies to Walmart GM Home: Private and Exclusive Brands items only. Items exempt from testing requirements shown below:\n",
            " Soft Goods, including but not limited to:\n",
            " NOTE - Suppliers may obtain a copy of Walmart’s instructions for the required ISTA + D14: napkins, placemats, tablecloth/runner\n",
            " Test Protocols on Retail Link > Academy > Transportation Channels > Packaging and + D17: pillows, fabric curtains\n",
            " + D19: fabric, yarn\n",
            " Walmart Home Private Brands Transit Testing - Flow Chart + 020: towels, curtains/liners, bath rug\n",
            "+ D2: sheets, blankets, pillows, bedding/quilt sets\n",
            "\n",
            "\n",
            "Text excerpt from page number 3:\n",
            "The following text has been translated into English and is clear and self-explanatory when read in isolation:\n",
            "\\n\\n\\n= NOTE - ISTA testing once completed should be sent to |STATesting@wal-mart.com.\\n a r , \\\" + D10: Cleaning towels Walmart Hardlines Private Brands Transit Testing - Flow Chart + Dit: Safety gloves\\n + D16: Seat cushions, throw pillows\n"
          ]
        }
      ]
    },
    {
      "cell_type": "markdown",
      "source": [
        "# Making an Inference with an LLM Locally"
      ],
      "metadata": {
        "id": "Rqg5cXfi7NED"
      }
    },
    {
      "cell_type": "code",
      "source": [
        "import os\n",
        "from huggingface_hub import login\n",
        "from google.colab import userdata\n",
        "\n",
        "login(userdata.get('HuggingFace'))"
      ],
      "metadata": {
        "id": "Ro7POTrD6YV-"
      },
      "execution_count": null,
      "outputs": []
    },
    {
      "cell_type": "code",
      "source": [
        "from transformers import pipeline\n",
        "pipe = pipeline(\"text-generation\", model=\"meta-llama/Llama-3.2-3B-Instruct\", max_length = 6000, device='cuda')"
      ],
      "metadata": {
        "colab": {
          "base_uri": "https://localhost:8080/",
          "height": 49,
          "referenced_widgets": [
            "45af99e086f34d08ac7275ba719da00e",
            "9e769ac0036c4bde9daeeaa80d908160",
            "1dc70f6dbf9840f1ae1b514c3012a320",
            "8f08a18a0b4549988911c887d86c4644",
            "f799b6a4569c4624928983937a9c0488",
            "951a9705a94f43b69269cd9773b75147",
            "8ea8e9757146434e8c150e76cfc3307c",
            "94ff03e59fa84a749c27011fe8707238",
            "abf7c1a82c7c4616974485bb1d015df8",
            "c2e862d03f874146b37b6bda7220f116",
            "29e880a048f6444089057bd4a6fcdb2b"
          ]
        },
        "id": "-JYm1ALdcaqh",
        "outputId": "8c46c978-48ea-4de5-c3d7-91ad8ae1e832"
      },
      "execution_count": null,
      "outputs": [
        {
          "output_type": "display_data",
          "data": {
            "text/plain": [
              "Loading checkpoint shards:   0%|          | 0/2 [00:00<?, ?it/s]"
            ],
            "application/vnd.jupyter.widget-view+json": {
              "version_major": 2,
              "version_minor": 0,
              "model_id": "45af99e086f34d08ac7275ba719da00e"
            }
          },
          "metadata": {}
        }
      ]
    },
    {
      "cell_type": "code",
      "source": [
        "# Use a pipeline as a high-level helper\n",
        "from transformers import pipeline\n",
        "\n",
        "messages = [\n",
        "    {\"role\": \"user\", \"content\": f\"use this information to answer my next query\\n\\n{context}\"},\n",
        "    {\"role\": \"user\", \"content\": f'{query} Think about your answer then generate a response'},\n",
        "]\n",
        "print(pipe(messages)[0]['generated_text'][-1]['content'])"
      ],
      "metadata": {
        "colab": {
          "base_uri": "https://localhost:8080/"
        },
        "id": "zddY_Uab4zee",
        "outputId": "d13df6cb-9bf5-4910-eabd-04f3a93a634b"
      },
      "execution_count": null,
      "outputs": [
        {
          "output_type": "stream",
          "name": "stderr",
          "text": [
            "Setting `pad_token_id` to `eos_token_id`:None for open-end generation.\n"
          ]
        },
        {
          "output_type": "stream",
          "name": "stdout",
          "text": [
            "Based on the provided text excerpts, if the package is shipping LTL (Less Than Truckload), the testing protocol to follow is the ISTA 3B protocol. This is because the flowchart indicates that if the item ships LTL from the Fulfillment Center, the user should follow the ISTA 3B protocol.\n",
            "\n",
            "Additionally, the text excerpt from page 3 states that if the item does not meet the conditions for shipping SIOC, it will be shipped via LTL. Therefore, if the package is shipping LTL, it is likely that the ISTA 3B protocol should be followed.\n",
            "\n",
            "It's worth noting that the text excerpt from page 2 also mentions that if any of the conditions are met, the item will ship LTL. These conditions include:\n",
            "\n",
            "* >150lbs\n",
            "* >108\" in longest dimension (9ft)\n",
            "* >165\" in length (L) + girth (2W+2H)\n",
            "\n",
            "If any of these conditions are met, the package will ship LTL and the ISTA 3B protocol should be followed.\n"
          ]
        }
      ]
    },
    {
      "cell_type": "code",
      "source": [],
      "metadata": {
        "id": "kehsYbp89_0J"
      },
      "execution_count": null,
      "outputs": []
    }
  ]
}